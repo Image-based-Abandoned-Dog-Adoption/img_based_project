{
  "nbformat": 4,
  "nbformat_minor": 0,
  "metadata": {
    "colab": {
      "name": "Untitled0.ipynb",
      "private_outputs": true,
      "provenance": [],
      "collapsed_sections": [],
      "authorship_tag": "ABX9TyMxmACjbtLq7DZ1TC5xmZS9",
      "include_colab_link": true
    },
    "kernelspec": {
      "name": "python3",
      "display_name": "Python 3"
    },
    "language_info": {
      "name": "python"
    }
  },
  "cells": [
    {
      "cell_type": "markdown",
      "metadata": {
        "id": "view-in-github",
        "colab_type": "text"
      },
      "source": [
        "<a href=\"https://colab.research.google.com/github/hyunsooklm/img_based_project/blob/hyunsooklm/dog_extraction.ipynb\" target=\"_parent\"><img src=\"https://colab.research.google.com/assets/colab-badge.svg\" alt=\"Open In Colab\"/></a>"
      ]
    },
    {
      "cell_type": "markdown",
      "metadata": {
        "id": "VBxgHU4qZd-u"
      },
      "source": [
        "# 1. 이미지 폴더 불러오기"
      ]
    },
    {
      "cell_type": "code",
      "metadata": {
        "id": "20r7kMWjOd1m"
      },
      "source": [
        "from google.colab import files\n",
        "files.upload()"
      ],
      "execution_count": null,
      "outputs": []
    },
    {
      "cell_type": "markdown",
      "metadata": {
        "id": "sqKkW1-_ZP0V"
      },
      "source": [
        "# 2. dog_image_Detection 모델설정\n"
      ]
    },
    {
      "cell_type": "code",
      "metadata": {
        "id": "1P8q3jZ0OrTj"
      },
      "source": [
        "from imageai.Detection import ObjectDetection\n",
        "import os\n",
        "\n",
        "execution_path = os.getcwd()\n",
        "detector = ObjectDetection()\n",
        "detector.setModelTypeAsRetinaNet()\n",
        "detector.setModelPath( os.path.join(execution_path , \"resnet50_coco_best_v2.1.0.h5\"))\n",
        "detector.loadModel()"
      ],
      "execution_count": null,
      "outputs": []
    },
    {
      "cell_type": "markdown",
      "metadata": {
        "id": "or01HsOjZye2"
      },
      "source": [
        "# 3. Custom_Object_detector 설정"
      ]
    },
    {
      "cell_type": "code",
      "metadata": {
        "id": "z_1DY6NkUXSK"
      },
      "source": [
        "custom_objects = detector.CustomObjects(dog=True)"
      ],
      "execution_count": null,
      "outputs": []
    },
    {
      "cell_type": "markdown",
      "metadata": {
        "id": "lgiqmPFbZ9t3"
      },
      "source": [
        "#4. 폴더 전체 강아지 detect 후 파일저장"
      ]
    },
    {
      "cell_type": "code",
      "metadata": {
        "id": "qFNxOpXdaEnL"
      },
      "source": [
        "import glob\n",
        "input_path='abandon_dogs/*'\n",
        "output_path='extract_dogs/'\n",
        "count=1\n",
        "for f in glob.glob(input_path):\n",
        "    detector.detectCustomObjectsFromImage(input_image=f, output_image_path=output_path, minimum_percentage_probability=30,  extract_detected_objects=True)\n",
        "    count+=1"
      ],
      "execution_count": null,
      "outputs": []
    },
    {
      "cell_type": "code",
      "metadata": {
        "id": "IPT_8ne2drVV"
      },
      "source": [
        "!ls"
      ],
      "execution_count": null,
      "outputs": []
    }
  ]
}