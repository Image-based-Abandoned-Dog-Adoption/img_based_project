{
  "nbformat": 4,
  "nbformat_minor": 0,
  "metadata": {
    "colab": {
      "name": "Dog_Detection_and_crop.ipynb",
      "private_outputs": true,
      "provenance": [],
      "collapsed_sections": [],
      "authorship_tag": "ABX9TyPRY5MaOVmrT0Qm00uPDNID",
      "include_colab_link": true
    },
    "kernelspec": {
      "name": "python3",
      "display_name": "Python 3"
    },
    "language_info": {
      "name": "python"
    },
    "accelerator": "GPU"
  },
  "cells": [
    {
      "cell_type": "markdown",
      "metadata": {
        "id": "view-in-github",
        "colab_type": "text"
      },
      "source": [
        "<a href=\"https://colab.research.google.com/github/hyunsooklm/img_based_project/blob/hyunsooklm/Dog_Detection_and_crop.ipynb\" target=\"_parent\"><img src=\"https://colab.research.google.com/assets/colab-badge.svg\" alt=\"Open In Colab\"/></a>"
      ]
    },
    {
      "cell_type": "markdown",
      "metadata": {
        "id": "VBxgHU4qZd-u"
      },
      "source": [
        "# 1. Mount Colab to Google Drive (Mount Default value:False) \n",
        "# (우선 Colab 웹사이트에서  Colab Notebook 하위에 my_env 폴더 만들기\n"
      ]
    },
    {
      "cell_type": "code",
      "metadata": {
        "id": "VFpIS32ehmtg"
      },
      "source": [
        "#first of all. make my_env Directory in your colab Notebooks/my_env\n",
        "Mount=False # if u need to Mount your Google Drive. set this True. and After Mounting your Google Drive. set this False\n",
        "if Mount:\n",
        "    import os, sys\n",
        "    from google.colab import drive\n",
        "    drive.mount('/content/drive')\n",
        "    my_path = '/content/notebooks'\n",
        "    # Colab Notebooks 안에 my_env 폴더에 패키지 저장\n",
        "    os.symlink('/content/drive/My Drive/Colab Notebooks/my_env', my_path) # for this code be valid, you must make 'my_env' directory in your Google Drive/Colab/my_env. \n",
        "    sys.path.insert(0, my_path)\n",
        "#!pip install --target=$my_path imageai     #To downlaod some Package in Colab and saved setting permenently. download package and saved into Google Drive. \n",
        "\n",
        "\n",
        "# refer to https://teddylee777.github.io/colab/colab%EC%97%90%EC%84%9C-python%ED%8C%A8%ED%82%A4%EC%A7%80%EB%A5%BC-permanently-%EC%9D%B8%EC%8A%A4%ED%86%A8%ED%95%98%EB%8A%94-%EB%B0%A9%EB%B2%95\n",
        "\n"
      ],
      "execution_count": null,
      "outputs": []
    },
    {
      "cell_type": "markdown",
      "metadata": {
        "id": "wAgBGuTJlhKL"
      },
      "source": [
        "# For Execute this file. you must Install 'Imageai' Package First."
      ]
    },
    {
      "cell_type": "code",
      "metadata": {
        "id": "am0Hu0plOvxp"
      },
      "source": [
        "!pip install --target=$my_path imageai\n",
        "print('Done')"
      ],
      "execution_count": null,
      "outputs": []
    },
    {
      "cell_type": "markdown",
      "metadata": {
        "id": "3yJtZEFk7ZNx"
      },
      "source": [
        "# Unzip Dog Image.zip file. \n",
        "# For this. you Must have Dog original Image.zip file in your Google Drive."
      ]
    },
    {
      "cell_type": "code",
      "metadata": {
        "id": "Muu6UV4Zsgct"
      },
      "source": [
        "# Download Original dog Image set into your Google Drive First. and DO following code\n",
        "Download=True  # change it True\n",
        "if Download:\n",
        "    from zipfile import ZipFile\n",
        "    file_name = '/content/drive/MyDrive/abandon_dog.zip'\n",
        "    with ZipFile(file_name, 'r') as zip:\n",
        "        zip.extractall()        \n",
        "print('Done')\n"
      ],
      "execution_count": null,
      "outputs": []
    },
    {
      "cell_type": "code",
      "metadata": {
        "id": "yQLVzT1js8j9"
      },
      "source": [
        "! git status"
      ],
      "execution_count": null,
      "outputs": []
    },
    {
      "cell_type": "markdown",
      "metadata": {
        "id": "sqKkW1-_ZP0V"
      },
      "source": [
        "# 2. Dog Image_Detection Model Setting"
      ]
    },
    {
      "cell_type": "code",
      "metadata": {
        "id": "1P8q3jZ0OrTj"
      },
      "source": [
        "# For Execute this cell. you must have 'resnet50_coco_best_v2.1.0.h5' file in your Google Drive.\n",
        "from imageai.Detection import ObjectDetection\n",
        "import os\n",
        "\n",
        "detector = ObjectDetection()\n",
        "detector.setModelTypeAsRetinaNet()\n",
        "detector.setModelPath('/content/drive/MyDrive/resnet50_coco_best_v2.1.0.h5')\n",
        "detector.loadModel()\n",
        "print('Done')"
      ],
      "execution_count": null,
      "outputs": []
    },
    {
      "cell_type": "markdown",
      "metadata": {
        "id": "or01HsOjZye2"
      },
      "source": [
        "# 3. Custom_Object_detector Setting\n",
        "\n"
      ]
    },
    {
      "cell_type": "code",
      "metadata": {
        "id": "z_1DY6NkUXSK"
      },
      "source": [
        "custom_objects = detector.CustomObjects(dog=True)"
      ],
      "execution_count": null,
      "outputs": []
    },
    {
      "cell_type": "markdown",
      "metadata": {
        "id": "lgiqmPFbZ9t3"
      },
      "source": [
        "#4. Detect Dog In Abandon_dogs_image. and crop Dog region"
      ]
    },
    {
      "cell_type": "markdown",
      "metadata": {
        "id": "s8BhPCjJHdHX"
      },
      "source": [
        "# Make Directory for saving result\n",
        "1. Detected set From Picture\n",
        "2. Dog Croped set\n",
        "\n"
      ]
    },
    {
      "cell_type": "code",
      "metadata": {
        "id": "qFNxOpXdaEnL"
      },
      "source": [
        "# never execute following code\n",
        "Directory_make=True\n",
        "if Directory_make:\n",
        "    !rm -rf result\n",
        "    !rm -rf detect_result\n",
        "    os.mkdir('result')\n",
        "    os.mkdir('detect_result')\n",
        "print('Done!')\n"
      ],
      "execution_count": null,
      "outputs": []
    },
    {
      "cell_type": "markdown",
      "metadata": {
        "id": "1LLVHntlf2q0"
      },
      "source": [
        "# From inputs_path Detect Dog region and Crop that region "
      ]
    },
    {
      "cell_type": "code",
      "metadata": {
        "id": "IPT_8ne2drVV"
      },
      "source": [
        "#import glob\n",
        "import cv2\n",
        "from PIL import Image\n",
        "inputs_path='/content/Abandon_dogs_image/*'\n",
        "outputs_dir='result/'\n",
        "ountputs_detect_dir='detect_result/'\n",
        "count=1\n",
        "Detect=False    #Do you wanna Detect and Crop work?\n",
        "if Detect:\n",
        "    for input_image_path in glob.glob(inputs_path):\n",
        "        try:\n",
        "            output_path=ountputs_detect_dir+f'result_{count}.jpg'\n",
        "            detections = detector.detectCustomObjectsFromImage(custom_objects=custom_objects, input_image=input_image_path, output_image_path=output_path, minimum_percentage_probability=30)\n",
        "            #강아지 영역 detect\n",
        "            box_point=tuple(detections[0]['box_points'])\n",
        "            src=cv2.imread(input_image_path)\n",
        "            src=src[box_point[1]:box_point[3],box_point[0]:box_point[2]]\n",
        "            cv2.imwrite(outputs_dir+f'result_{count}.jpg',src)\n",
        "            #detect 영역 저장\n",
        "            count+=1\n",
        "        except Exception:\n",
        "            pass\n",
        "result_length=len(os.listdir('result'))\n",
        "print(f'finished:{result_length} pictures saved!')\n",
        "\n",
        "print('All Detection and Crop was Done!')"
      ],
      "execution_count": null,
      "outputs": []
    },
    {
      "cell_type": "markdown",
      "metadata": {
        "id": "PSFn7r6gh2og"
      },
      "source": [
        "# 5. Download Detected Image set and Croped Image set into Local PC\n"
      ]
    },
    {
      "cell_type": "code",
      "metadata": {
        "id": "PQHF38rEqgZz"
      },
      "source": [
        "# !zip -r /content/sample.zip /content/sample/\n",
        "# files.download('sample.zip')"
      ],
      "execution_count": null,
      "outputs": []
    },
    {
      "cell_type": "code",
      "metadata": {
        "id": "OwQVV2-cJUFL"
      },
      "source": [
        "Downlaod=True # set this True\n",
        "\n",
        "#To Download colab directory into local PC. First. Make zip file \n",
        "if Download:\n",
        "    !zip -r /content/detect_result.zip /content/detect_result/\n",
        "    !zip -r /content/result.zip /content/result/\n",
        "\n",
        "    #and Download the zip file\n",
        "    files.download('detect_result.zip')\n",
        "    files.download('result.zip')"
      ],
      "execution_count": null,
      "outputs": []
    }
  ]
}